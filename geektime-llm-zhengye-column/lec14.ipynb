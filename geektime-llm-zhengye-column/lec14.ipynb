{
  "nbformat": 4,
  "nbformat_minor": 0,
  "metadata": {
    "colab": {
      "provenance": [],
      "authorship_tag": "ABX9TyOph0utHWKChQCm8tBWznPm"
    },
    "kernelspec": {
      "name": "python3",
      "display_name": "Python 3"
    },
    "language_info": {
      "name": "python"
    }
  },
  "cells": [
    {
      "cell_type": "code",
      "source": [
        "%pip install -qq langchain-xai langchain-experimental"
      ],
      "metadata": {
        "id": "314WaUFTJMDI"
      },
      "execution_count": 1,
      "outputs": []
    },
    {
      "cell_type": "code",
      "execution_count": 2,
      "metadata": {
        "colab": {
          "base_uri": "https://localhost:8080/"
        },
        "id": "_n6YgGn_I4la",
        "outputId": "26e9cf64-532f-44f0-c67d-bdea017aa52e"
      },
      "outputs": [
        {
          "output_type": "stream",
          "name": "stdout",
          "text": [
            "\n",
            "\n",
            "\u001b[1m> Entering new AgentExecutor chain...\u001b[0m\n",
            "\u001b[32;1m\u001b[1;3mI need to know the price per kilogram for both apples and bananas.\n",
            "\n",
            "Action: ask_fruit_unit_price\n",
            "Action Input: apple\n",
            "Observation\u001b[0m\u001b[33;1m\u001b[1;3mApple unit price is 10/kg\u001b[0m\u001b[32;1m\u001b[1;3mI now have the price for apples. Next, I need to find out the price for bananas.\n",
            "\n",
            "Action: ask_fruit_unit_price\n",
            "Action Input: banana\n",
            "Observation\u001b[0m\u001b[33;1m\u001b[1;3mBanana unit price is 6/kg\u001b[0m\u001b[32;1m\u001b[1;3mI now have the price for both apples and bananas. I can calculate the total price for 3 kg of apples and 2 kg of bananas.\n",
            "\n",
            "Action: calculate\n",
            "Action Input: (3 * 10) + (2 * 6)\n",
            "Observation\u001b[0m\u001b[36;1m\u001b[1;3m42\u001b[0m\u001b[32;1m\u001b[1;3mI now know the final answer\n",
            "\n",
            "Final Answer: The total price of 3 kg of apples and 2 kg of bananas is 42.0 dollars.\u001b[0m\n",
            "\n",
            "\u001b[1m> Finished chain.\u001b[0m\n",
            "{'input': 'What is the total price of 3 kg of apple and 2 kg of banana?', 'output': 'The total price of 3 kg of apples and 2 kg of bananas is 42.0 dollars.'}\n"
          ]
        }
      ],
      "source": [
        "from google.colab import userdata\n",
        "from langchain.agents import AgentExecutor, create_react_agent\n",
        "from langchain_core.prompts import PromptTemplate\n",
        "from langchain_core.tools import tool\n",
        "from langchain_xai import ChatXAI\n",
        "from functools import wraps\n",
        "\n",
        "def clean_tool_input(func):\n",
        "    \"\"\"装饰器：清理传递给工具函数的输入\"\"\"\n",
        "    @wraps(func)  # 这会保留原始函数的元数据，包括 docstring\n",
        "    def wrapper(input_str: str, *args, **kwargs):\n",
        "        # 清理输入，只取第一行并去除空白字符\n",
        "        cleaned_input = input_str.split('\\n')[0].strip()\n",
        "        return func(cleaned_input, *args, **kwargs)\n",
        "    return wrapper\n",
        "\n",
        "@tool\n",
        "@clean_tool_input\n",
        "def calculate(what: str) -> float:\n",
        "    \"\"\"Runs a calculation and returns the number - uses Python so be sure to use floating point syntax if necessary\"\"\"\n",
        "    return eval(what)\n",
        "\n",
        "@tool\n",
        "@clean_tool_input\n",
        "def ask_fruit_unit_price(fruit: str) -> str:\n",
        "    \"\"\"Asks the user for the price of a fruit\"\"\"\n",
        "    if fruit.casefold() == \"apple\":\n",
        "        return \"Apple unit price is 10/kg\"\n",
        "    elif fruit.casefold() == \"banana\":\n",
        "        return \"Banana unit price is 6/kg\"\n",
        "    else:\n",
        "        return \"{} unit price is 20/kg\".format(fruit)\n",
        "\n",
        "\n",
        "prompt = PromptTemplate.from_template('''Answer the following questions as best you can. You have access to the following tools:\n",
        "\n",
        "{tools}\n",
        "\n",
        "Use the following format:\n",
        "\n",
        "Question: the input question you must answer\n",
        "Thought: you should always think about what to do\n",
        "Action: the action to take, should be one of [{tool_names}]\n",
        "Action Input: the input to the action\n",
        "Observation: the result of the action\n",
        "... (this Thought/Action/Action Input/Observation can repeat N times)\n",
        "Thought: I now know the final answer\n",
        "Final Answer: the final answer to the original input question\n",
        "\n",
        "Begin!\n",
        "\n",
        "Question: {input}\n",
        "Thought:{agent_scratchpad}''')\n",
        "\n",
        "tools = [calculate, ask_fruit_unit_price]\n",
        "model = ChatXAI(\n",
        "    xai_api_key=userdata.get('xai_api_key'),\n",
        "    model=\"grok-beta\",\n",
        ")\n",
        "agent = create_react_agent(model, tools, prompt)\n",
        "agent_executor = AgentExecutor(agent=agent, tools=tools, verbose=True)\n",
        "result = agent_executor.invoke({\n",
        "    \"input\": \"What is the total price of 3 kg of apple and 2 kg of banana?\"\n",
        "})\n",
        "print(result)"
      ]
    },
    {
      "cell_type": "code",
      "source": [
        "@tool\n",
        "def calculate(what: str) -> float:\n",
        "    \"\"\"Runs a calculation and returns the number - uses Python so be sure to use floating point syntax if necessary\"\"\"\n",
        "    return eval(what)\n",
        "\n",
        "print(calculate.name)\n",
        "print(calculate.description)\n",
        "print(calculate.args)"
      ],
      "metadata": {
        "colab": {
          "base_uri": "https://localhost:8080/"
        },
        "id": "zbtdN1T-Jz1r",
        "outputId": "b4204fc8-958b-4bac-a7f2-b76bf35c62d4"
      },
      "execution_count": 3,
      "outputs": [
        {
          "output_type": "stream",
          "name": "stdout",
          "text": [
            "calculate\n",
            "Runs a calculation and returns the number - uses Python so be sure to use floating point syntax if necessary\n",
            "{'what': {'title': 'What', 'type': 'string'}}\n"
          ]
        }
      ]
    },
    {
      "cell_type": "code",
      "source": [
        "from langchain.tools import ShellTool\n",
        "\n",
        "shell_tool = ShellTool()\n",
        "\n",
        "tools = [shell_tool]\n",
        "agent = create_react_agent(model, tools, prompt)\n",
        "agent_executor = AgentExecutor(agent=agent, tools=tools, verbose=True)\n",
        "result = agent_executor.invoke({\n",
        "    \"input\": \"Create a file named 'test.txt' and write 'Hello, World!' to it.\"\n",
        "})"
      ],
      "metadata": {
        "colab": {
          "base_uri": "https://localhost:8080/"
        },
        "id": "2YYbZB42aGbo",
        "outputId": "d477a7f9-4383-4221-a145-fc81f23ef613"
      },
      "execution_count": 7,
      "outputs": [
        {
          "output_type": "stream",
          "name": "stdout",
          "text": [
            "\n",
            "\n",
            "\u001b[1m> Entering new AgentExecutor chain...\u001b[0m\n",
            "\u001b[32;1m\u001b[1;3mThought: To answer this question, I need to create a file and write specific content to it. The most straightforward way to do this on a Linux system is by using the `echo` command to output the string and redirect it into a file.\n",
            "\n",
            "Action: terminal\n",
            "Action Input: echo \"Hello, World!\" > test.txt\n",
            "Observation\u001b[0mExecuting command:\n",
            " echo \"Hello, World!\" > test.txt\n",
            "Observation\n",
            "\u001b[36;1m\u001b[1;3m/bin/sh: 2: Observation: not found\n",
            "\u001b[0m"
          ]
        },
        {
          "output_type": "stream",
          "name": "stderr",
          "text": [
            "/usr/local/lib/python3.10/dist-packages/langchain_community/tools/shell/tool.py:33: UserWarning: The shell tool has no safeguards by default. Use at your own risk.\n",
            "  warnings.warn(\n"
          ]
        },
        {
          "output_type": "stream",
          "name": "stdout",
          "text": [
            "\u001b[32;1m\u001b[1;3mThere was an error in the previous response format. Let's correct that and proceed:\n",
            "\n",
            "Thought: The initial command to write to `test.txt` should work, but it appears there was an error in formatting the observation. Let's verify if the file was created and contains the correct content.\n",
            "\n",
            "Action: terminal  \n",
            "Action Input: ls -l test.txt && cat test.txt  \n",
            "Observation\u001b[0mExecuting command:\n",
            " ls -l test.txt && cat test.txt  \n",
            "Observation\n",
            "\u001b[36;1m\u001b[1;3m-rw-r--r-- 1 root root 14 Dec  1 22:04 test.txt\n",
            "Hello, World!\n",
            "/bin/sh: 2: Observation: not found\n",
            "\u001b[0m"
          ]
        },
        {
          "output_type": "stream",
          "name": "stderr",
          "text": [
            "/usr/local/lib/python3.10/dist-packages/langchain_community/tools/shell/tool.py:33: UserWarning: The shell tool has no safeguards by default. Use at your own risk.\n",
            "  warnings.warn(\n"
          ]
        },
        {
          "output_type": "stream",
          "name": "stdout",
          "text": [
            "\u001b[32;1m\u001b[1;3mThere was another formatting error in the previous response, but the file creation and content check were successful. Here is the corrected thought process:\n",
            "\n",
            "Thought: The file 'test.txt' has been successfully created with the content 'Hello, World!'. \n",
            "\n",
            "Final Answer: The file 'test.txt' has been created with the content 'Hello, World!'.\u001b[0m\n",
            "\n",
            "\u001b[1m> Finished chain.\u001b[0m\n"
          ]
        }
      ]
    },
    {
      "cell_type": "code",
      "source": [],
      "metadata": {
        "id": "fmBOhl4ics2A"
      },
      "execution_count": null,
      "outputs": []
    }
  ]
}