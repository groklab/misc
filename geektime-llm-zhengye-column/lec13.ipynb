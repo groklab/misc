{
  "nbformat": 4,
  "nbformat_minor": 0,
  "metadata": {
    "colab": {
      "provenance": [],
      "authorship_tag": "ABX9TyOxAPc1xDo4DbQFU0Soe/7u"
    },
    "kernelspec": {
      "name": "python3",
      "display_name": "Python 3"
    },
    "language_info": {
      "name": "python"
    }
  },
  "cells": [
    {
      "cell_type": "code",
      "source": [
        "from google.colab import userdata\n",
        "from openai import OpenAI\n",
        "import re"
      ],
      "metadata": {
        "id": "mW__AYnzHbi0"
      },
      "execution_count": 1,
      "outputs": []
    },
    {
      "cell_type": "code",
      "execution_count": 2,
      "metadata": {
        "id": "dY2SSv4qFL7q"
      },
      "outputs": [],
      "source": [
        "DEFAULT_MODEL = \"grok-beta\"\n",
        "\n",
        "client = OpenAI(\n",
        "    api_key=userdata.get('xai_api_key'),\n",
        "    base_url=\"https://api.x.ai/v1\",\n",
        ")\n",
        "\n",
        "class Agent:\n",
        "    def __init__(self, system=\"\"):\n",
        "        self.system = system\n",
        "        self.messages = []\n",
        "        if self.system:\n",
        "            self.messages.append({\"role\": \"system\", \"content\": system})\n",
        "\n",
        "    def invoke(self, message):\n",
        "        self.messages.append({\"role\": \"user\", \"content\": message})\n",
        "        result = self.execute()\n",
        "        self.messages.append({\"role\": \"assistant\", \"content\": result})\n",
        "        return result\n",
        "\n",
        "    def execute(self):\n",
        "        completion = client.chat.completions.create(\n",
        "            model=DEFAULT_MODEL,\n",
        "            messages=self.messages,\n",
        "            temperature=0\n",
        "        )\n",
        "        return completion.choices[0].message.content"
      ]
    },
    {
      "cell_type": "code",
      "source": [
        "prompt = \"\"\"\n",
        "You run in a loop of Thought, Action, PAUSE, Observation.\n",
        "At the end of the loop you output an Answer\n",
        "Use Thought to describe your thoughts about the question you have been asked.\n",
        "Use Action to run one of the actions available to you - then return PAUSE.\n",
        "Observation will be the result of running those actions.\n",
        "\n",
        "Your available actions are:\n",
        "\n",
        "calculate:\n",
        "e.g. calculate: 4 * 7 / 3\n",
        "Runs a calculation and returns the number - uses Python so be sure to use floating point syntax if necessary\n",
        "\n",
        "ask_fruit_unit_price:\n",
        "e.g. ask_fruit_unit_price: apple\n",
        "Asks the user for the price of a fruit\n",
        "\n",
        "Example session:\n",
        "\n",
        "Question: What is the unit price of apple?\n",
        "Thought: I need to ask the user for the price of an apple to provide the unit price.\n",
        "Action: ask_fruit_unit_price: apple\n",
        "PAUSE\n",
        "\n",
        "You will be called again with this:\n",
        "\n",
        "Observation: Apple unit price is 10/kg\n",
        "\n",
        "You then output:\n",
        "\n",
        "Answer: The unit price of apple is 10 per kg.\n",
        "\"\"\".strip()"
      ],
      "metadata": {
        "id": "t5bN26S9FSZR"
      },
      "execution_count": 3,
      "outputs": []
    },
    {
      "cell_type": "code",
      "source": [
        "def calculate(what):\n",
        "    return eval(what)\n",
        "\n",
        "\n",
        "def ask_fruit_unit_price(fruit):\n",
        "    if fruit.casefold() == \"apple\":\n",
        "        return \"Apple unit price is 10/kg\"\n",
        "    elif fruit.casefold() == \"banana\":\n",
        "        return \"Banana unit price is 6/kg\"\n",
        "    else:\n",
        "        return \"{} unit price is 20/kg\".format(fruit)"
      ],
      "metadata": {
        "id": "KBfnrwCeOSyj"
      },
      "execution_count": 4,
      "outputs": []
    },
    {
      "cell_type": "code",
      "source": [
        "action_re = re.compile(r'^Action: (\\w+): (.*)$')\n",
        "\n",
        "known_actions = {\n",
        "    \"calculate\": calculate,\n",
        "    \"ask_fruit_unit_price\": ask_fruit_unit_price\n",
        "}\n",
        "\n",
        "def query(question, max_turns=5):\n",
        "    i = 0\n",
        "    agent = Agent(prompt)\n",
        "    next_prompt = question\n",
        "    while i < max_turns:\n",
        "        i += 1\n",
        "        result = agent.invoke(next_prompt)\n",
        "        print(result)\n",
        "        actions = [action_re.match(a) for a in result.split('\\n') if action_re.match(a)]\n",
        "        if actions:\n",
        "            # There is an action to run\n",
        "            action, action_input = actions[0].groups()\n",
        "            if action not in known_actions:\n",
        "                raise Exception(\"Unknown action: {}: {}\".format(action, action_input))\n",
        "            print(\" -- running {} {}\".format(action, action_input))\n",
        "            observation = known_actions[action](action_input)\n",
        "            print(\"Observation:\", observation)\n",
        "            next_prompt = \"Observation: {}\".format(observation)\n",
        "        else:\n",
        "            return"
      ],
      "metadata": {
        "id": "VSGCUAWnNiAd"
      },
      "execution_count": 5,
      "outputs": []
    },
    {
      "cell_type": "code",
      "source": [
        "query(\"What is the total price of 3kg of apple and 2kg of banana?\")"
      ],
      "metadata": {
        "colab": {
          "base_uri": "https://localhost:8080/"
        },
        "id": "55dyb7lO-ZDf",
        "outputId": "e754b6f6-8222-42d9-ed0f-f07b6ce21754"
      },
      "execution_count": 6,
      "outputs": [
        {
          "output_type": "stream",
          "name": "stdout",
          "text": [
            "Thought: To find the total price, I need to know the unit prices of both apples and bananas. I'll start by asking for the price of apples.\n",
            "\n",
            "Action: ask_fruit_unit_price: apple\n",
            "PAUSE\n",
            " -- running ask_fruit_unit_price apple\n",
            "Observation: Apple unit price is 10/kg\n",
            "Thought: Now that I have the price of apples, I need to ask for the price of bananas to calculate the total cost.\n",
            "\n",
            "Action: ask_fruit_unit_price: banana\n",
            "PAUSE\n",
            " -- running ask_fruit_unit_price banana\n",
            "Observation: Banana unit price is 6/kg\n",
            "Thought: I now have the unit prices for both apples and bananas. I can calculate the total cost by multiplying the quantity of each fruit by its unit price and then summing these amounts.\n",
            "\n",
            "Action: calculate: (3 * 10) + (2 * 6)\n",
            "PAUSE\n",
            " -- running calculate (3 * 10) + (2 * 6)\n",
            "Observation: 42\n",
            "Answer: The total price for 3kg of apples and 2kg of bananas is 42.\n"
          ]
        }
      ]
    },
    {
      "cell_type": "code",
      "source": [
        "query(\"三公斤苹果和两公斤香蕉的总价？\")"
      ],
      "metadata": {
        "colab": {
          "base_uri": "https://localhost:8080/"
        },
        "id": "Huvg07QA_RVW",
        "outputId": "3e062fd3-9604-4275-b095-9badf34198bc"
      },
      "execution_count": 7,
      "outputs": [
        {
          "output_type": "stream",
          "name": "stdout",
          "text": [
            "Thought: To calculate the total price of three kilograms of apples and two kilograms of bananas, I first need to know the unit price of each fruit.\n",
            "\n",
            "Action: ask_fruit_unit_price: apple\n",
            "PAUSE\n",
            " -- running ask_fruit_unit_price apple\n",
            "Observation: Apple unit price is 10/kg\n",
            "Thought: Now that I have the price of apples, I need to ask for the price of bananas to proceed with the calculation.\n",
            "\n",
            "Action: ask_fruit_unit_price: banana\n",
            "PAUSE\n",
            " -- running ask_fruit_unit_price banana\n",
            "Observation: Banana unit price is 6/kg\n",
            "Thought: I now have the unit prices for both apples and bananas. I can calculate the total price by multiplying the quantity of each fruit by its unit price and then summing these amounts.\n",
            "\n",
            "Action: calculate: 3 * 10 + 2 * 6\n",
            "PAUSE\n",
            " -- running calculate 3 * 10 + 2 * 6\n",
            "Observation: 42\n",
            "Answer: 三公斤苹果和两公斤香蕉的总价是42元。\n"
          ]
        }
      ]
    },
    {
      "cell_type": "code",
      "source": [],
      "metadata": {
        "id": "mlg2iTf_JqZw"
      },
      "execution_count": null,
      "outputs": []
    }
  ]
}